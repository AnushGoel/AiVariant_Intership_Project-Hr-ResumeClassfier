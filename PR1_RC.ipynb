{
 "cells": [
  {
   "cell_type": "code",
   "execution_count": 1,
   "metadata": {
    "colab": {
     "base_uri": "https://localhost:8080/"
    },
    "id": "3VGHTK9AC24a",
    "outputId": "84d89b0c-59fd-4395-9748-d449d39a65a2"
   },
   "outputs": [],
   "source": [
    "!pip install squarify\n",
    "!pip install streamlit\n",
    "import os   #For operating system related functionalities\n",
    "from collections import defaultdict #For creating a dictionary with a default value\n",
    "import streamlit as st\n",
    "import zipfile\n",
    "import pandas as pd\n",
    "import re\n",
    "import numpy as np\n",
    "import string\n",
    "import seaborn as sns\n",
    "import pandas as pd\n",
    "import matplotlib.pyplot as plt\n",
    "import squarify\n",
    "import networkx as nx\n",
    "import matplotlib.pyplot as plt\n",
    "from sklearn.svm import SVC\n",
    "from wordcloud import WordCloud\n",
    "from sklearn.neighbors import KNeighborsClassifier\n",
    "from sklearn.ensemble import BaggingClassifier\n",
    "from sklearn.tree import DecisionTreeClassifier\n",
    "from sklearn.ensemble import AdaBoostClassifier\n",
    "from sklearn.naive_bayes import MultinomialNB\n",
    "from sklearn.metrics import classification_report\n",
    "from sklearn.ensemble import RandomForestClassifier\n",
    "from sklearn.linear_model import LogisticRegression\n",
    "from sklearn.ensemble import GradientBoostingClassifier\n",
    "from sklearn.metrics import classification_report\n",
    "from sklearn.model_selection import train_test_split\n",
    "import warnings\n",
    "warnings.filterwarnings('ignore')\n",
    "zip_file_path = r'C:\\Users\\Sanjeev Mishra\\Downloads\\Resumes-20220812T140008Z-001 (1).zip'\n",
    "#raw string literals, which is used to prevent any escape character interpretation.\n",
    "extract_path = r'/content/Resumes-Extracted'\n",
    "\n",
    "# Extract the ZIP file to the specified extract path\n",
    "with zipfile.ZipFile(zip_file_path, 'r') as zip_ref:\n",
    "    zip_ref.extractall(extract_path)"
   ]
  },
  {
   "cell_type": "code",
   "execution_count": 2,
   "metadata": {
    "colab": {
     "base_uri": "https://localhost:8080/"
    },
    "id": "bBXl0iSFC53G",
    "outputId": "a7d2ee0b-a8a1-4cf3-cab8-a7e7e32c9bb9"
   },
   "outputs": [],
   "source": [
    "# Dictionary to store the count of file extensions\n",
    "file_extension_count = defaultdict(int)\n",
    "\n",
    "# Iterate over the files in the extracted directory\n",
    "for root, dirs, files in os.walk(extract_path):\n",
    "    for file in files:\n",
    "        file_extension = os.path.splitext(file)[1]\n",
    "        file_extension_count[file_extension] += 1\n",
    "\n",
    "# Print the count of each file extension\n",
    "for extension, count in file_extension_count.items():\n",
    "    print(f\"File extension: {extension}, Count: {count}\")\n",
    "\n",
    "# Calculate the total count of file extensions\n",
    "total_count = sum(file_extension_count.values())\n",
    "\n",
    "# Print the total count\n",
    "print(\"Total count:\", total_count)"
   ]
  },
  {
   "cell_type": "code",
   "execution_count": 3,
   "metadata": {
    "colab": {
     "base_uri": "https://localhost:8080/",
     "height": 472
    },
    "id": "XDiDZktxC7xi",
    "outputId": "a8283efd-b50e-44f5-a812-00be1add788e"
   },
   "outputs": [],
   "source": [
    "import matplotlib.pyplot as plt\n",
    "\n",
    "# Get the file extensions and their corresponding counts\n",
    "extensions = ['.docx', '.doc', '.pdf']\n",
    "counts = [file_extension_count[extension] for extension in extensions]\n",
    "\n",
    "# Plotting the bar plot\n",
    "plt.bar(extensions, counts)\n",
    "plt.xlabel('File Extension')\n",
    "plt.ylabel('Count')\n",
    "\n",
    "plt.title('File Extension Counts')\n",
    "plt.show()"
   ]
  },
  {
   "cell_type": "code",
   "execution_count": 4,
   "metadata": {
    "colab": {
     "base_uri": "https://localhost:8080/",
     "height": 428
    },
    "id": "xmpoxn1FC9YB",
    "outputId": "a64a4617-9491-47e5-8cd5-37fe1f735028"
   },
   "outputs": [],
   "source": [
    "import matplotlib.pyplot as plt\n",
    "\n",
    "# Get the file extensions and their corresponding counts\n",
    "extensions = ['.docx', '.doc', '.pdf']\n",
    "counts = [file_extension_count[extension] for extension in extensions]\n",
    "\n",
    "# Define labels for the pie chart\n",
    "labels = extensions\n",
    "\n",
    "# Plotting the pie chart\n",
    "plt.pie(counts, labels=labels, autopct='%1.1f%%', startangle=90)\n",
    "\n",
    "# Set the title of the pie chart\n",
    "plt.title('File Extension Distribution')\n",
    "\n",
    "# Equal aspect ratio ensures that pie is drawn as a circle\n",
    "plt.axis('equal')\n",
    "\n",
    "# Show the plot\n",
    "plt.show()"
   ]
  },
  {
   "cell_type": "code",
   "execution_count": 5,
   "metadata": {
    "colab": {
     "base_uri": "https://localhost:8080/",
     "height": 677
    },
    "id": "NjiOvlgiC_Px",
    "outputId": "62f85609-a14d-4e50-8069-5c4d31b7b99b"
   },
   "outputs": [],
   "source": [
    "import matplotlib.pyplot as plt\n",
    "\n",
    "sizes = [file_extension_count['.docx'], file_extension_count['.doc'], file_extension_count['.pdf']]\n",
    "labels = ['.docx', '.doc', '.pdf']\n",
    "colors = ['#c2ff33', '#ff5733', '#4287f5']\n",
    "explode = (0.02, 0.03, 0.04)\n",
    "\n",
    "plt.figure(figsize=(12, 8), dpi=100)\n",
    "plt.pie(sizes, labels=labels, colors=colors, autopct='%1.0f%%', shadow=True, pctdistance=0.85, explode=explode)\n",
    "plt.title('Quantity of resumes additions', fontsize=16, fontweight='bold')\n",
    "\n",
    "centre_circle = plt.Circle((0, 0), 0.70, fc='black')\n",
    "plt.gca().add_artist(centre_circle)\n",
    "\n",
    "plt.legend(labels, loc='center')\n",
    "plt.axis('equal')\n",
    "plt.show()"
   ]
  },
  {
   "cell_type": "code",
   "execution_count": 6,
   "metadata": {
    "colab": {
     "base_uri": "https://localhost:8080/",
     "height": 487
    },
    "id": "7tsW_9CtDA6w",
    "outputId": "ab1af1e2-1fe3-4261-828c-b32958010324"
   },
   "outputs": [],
   "source": [
    "import matplotlib.pyplot as plt\n",
    "\n",
    "extensions = ['.docx', '.doc', '.pdf']\n",
    "counts = [file_extension_count[extension] for extension in extensions]\n",
    "colors = ['steelblue', 'darkorange', 'limegreen']\n",
    "\n",
    "plt.bar(extensions, counts, color=colors, width=0.5, edgecolor='black')\n",
    "plt.xlabel('File Extension')\n",
    "plt.ylabel('Count')\n",
    "plt.title('File Extension Counts')\n",
    "plt.xticks(rotation=45)\n",
    "\n",
    "for i, count in enumerate(counts):\n",
    "    plt.text(i, count, str(count), ha='center', va='bottom')\n",
    "\n",
    "plt.tight_layout()\n",
    "plt.show()\n"
   ]
  },
  {
   "cell_type": "code",
   "execution_count": 7,
   "metadata": {
    "colab": {
     "base_uri": "https://localhost:8080/"
    },
    "id": "20vZYOXxDCVe",
    "outputId": "21676021-3b9b-4f6c-dd1a-cafb72549b22"
   },
   "outputs": [],
   "source": [
    "import os\n",
    "import pandas as pd\n",
    "\n",
    "extract_folder = r'/content/Resumes-Extracted'\n",
    "\n",
    "file_name = []\n",
    "profile = []\n",
    "\n",
    "for root, dirs, files in os.walk(extract_folder):\n",
    "    for file in files:\n",
    "        if file.endswith('.docx') or file.endswith('.doc') or file.endswith('.pdf'):\n",
    "            parent_folder = os.path.basename(os.path.dirname(root))\n",
    "            if parent_folder == \"Resumes\":\n",
    "                parent_folder = os.path.basename(root)\n",
    "            profile.append(parent_folder)\n",
    "            file_name.append(file)\n",
    "\n",
    "# Create the DataFrame\n",
    "data = pd.DataFrame()\n",
    "data['Resume'] = file_name\n",
    "data['Profile'] = profile\n",
    "\n",
    "# Print the DataFrame\n",
    "print(data)\n"
   ]
  },
  {
   "cell_type": "markdown",
   "metadata": {
    "id": "gXuS3TcxDFCU"
   },
   "source": [
    "###**Save the .Csv File**"
   ]
  },
  {
   "cell_type": "code",
   "execution_count": 8,
   "metadata": {
    "id": "FwEL3J2BDFxs"
   },
   "outputs": [],
   "source": [
    "import pandas as pd\n",
    "# Specify the file path and name where we need to save the CSV file\n",
    "file_path = '/content/data.csv'\n",
    "# Save the DataFrame as a CSV file\n",
    "data.to_csv(file_path, index=False)"
   ]
  },
  {
   "cell_type": "code",
   "execution_count": 9,
   "metadata": {
    "colab": {
     "base_uri": "https://localhost:8080/"
    },
    "id": "ODa7V-BuDOzz",
    "outputId": "fd22fa5a-b272-4c83-8216-dfe62e35e848"
   },
   "outputs": [],
   "source": [
    "# Read the CSV file and create a DataFrame\n",
    "df = pd.read_csv(file_path)\n",
    "# Now work with the DataFrame\n",
    "print(df)"
   ]
  },
  {
   "cell_type": "code",
   "execution_count": 10,
   "metadata": {
    "colab": {
     "base_uri": "https://localhost:8080/",
     "height": 802
    },
    "id": "VF89EfGhDRZH",
    "outputId": "7366233a-5d36-436c-fcf9-c5c3c0693372"
   },
   "outputs": [],
   "source": [
    "df[df.Profile == 'R_developer']"
   ]
  },
  {
   "cell_type": "code",
   "execution_count": 11,
   "metadata": {
    "colab": {
     "base_uri": "https://localhost:8080/",
     "height": 676
    },
    "id": "70NcMuA9DTKW",
    "outputId": "4d50a7c8-0b15-41ce-ac40-9a2bbfee1479"
   },
   "outputs": [],
   "source": [
    "df[df.Profile == 'Peoplesoft']"
   ]
  },
  {
   "cell_type": "code",
   "execution_count": 12,
   "metadata": {
    "colab": {
     "base_uri": "https://localhost:8080/",
     "height": 708
    },
    "id": "rzmz4sqNDVQ2",
    "outputId": "3fcaf238-5cac-4c59-f99b-e565bdb57e1f"
   },
   "outputs": [],
   "source": [
    "df[df.Profile == 'Workday']"
   ]
  },
  {
   "cell_type": "code",
   "execution_count": 13,
   "metadata": {
    "colab": {
     "base_uri": "https://localhost:8080/",
     "height": 488
    },
    "id": "K5GagwsjETAg",
    "outputId": "afbe5da3-8f0c-4312-de80-b2843d5f9308"
   },
   "outputs": [],
   "source": [
    "df[df.Profile == 'SQL_Developer']"
   ]
  },
  {
   "cell_type": "markdown",
   "metadata": {
    "id": "3PArfEBREVxZ"
   },
   "source": [
    "##Data Inspection:"
   ]
  },
  {
   "cell_type": "markdown",
   "metadata": {
    "id": "dg9OBblwEgx-"
   },
   "source": [
    "###**Data Structure:**"
   ]
  },
  {
   "cell_type": "code",
   "execution_count": 14,
   "metadata": {
    "colab": {
     "base_uri": "https://localhost:8080/"
    },
    "id": "JJ-e7oluEVSD",
    "outputId": "5dc39d8e-3afe-4b25-deca-2027f8ac0389"
   },
   "outputs": [],
   "source": [
    "len(df)"
   ]
  },
  {
   "cell_type": "code",
   "execution_count": 15,
   "metadata": {
    "colab": {
     "base_uri": "https://localhost:8080/"
    },
    "id": "0WBzFoENEaVe",
    "outputId": "493f1d32-267d-4b1c-f3cb-ca3f9cf31b98"
   },
   "outputs": [],
   "source": [
    "df.shape"
   ]
  },
  {
   "cell_type": "markdown",
   "metadata": {
    "id": "BSvfXEzLEkp2"
   },
   "source": [
    "###**Data Dimension:**"
   ]
  },
  {
   "cell_type": "code",
   "execution_count": 16,
   "metadata": {
    "colab": {
     "base_uri": "https://localhost:8080/"
    },
    "id": "b0sr8evqEla7",
    "outputId": "ee136dda-9d46-488f-f15b-43331f079f46"
   },
   "outputs": [],
   "source": [
    "df.ndim"
   ]
  },
  {
   "cell_type": "markdown",
   "metadata": {
    "id": "w7eEkny5EpYq"
   },
   "source": [
    "###**Data Types:**"
   ]
  },
  {
   "cell_type": "code",
   "execution_count": 17,
   "metadata": {
    "colab": {
     "base_uri": "https://localhost:8080/"
    },
    "id": "yhTYwvOQEr9N",
    "outputId": "7b6f1b4c-439f-4350-f312-e501ee4d08a2"
   },
   "outputs": [],
   "source": [
    "df.dtypes"
   ]
  },
  {
   "cell_type": "markdown",
   "metadata": {
    "id": "9CV83Gg2EuIb"
   },
   "source": [
    "###**Checking Missing Values:**"
   ]
  },
  {
   "cell_type": "code",
   "execution_count": 18,
   "metadata": {
    "colab": {
     "base_uri": "https://localhost:8080/"
    },
    "id": "xu99IEF_EwAd",
    "outputId": "5715f069-be63-416b-90c2-4989eeafc4b9"
   },
   "outputs": [],
   "source": [
    "df.isnull().sum()"
   ]
  },
  {
   "cell_type": "code",
   "execution_count": 19,
   "metadata": {
    "colab": {
     "base_uri": "https://localhost:8080/"
    },
    "id": "wU8wSfOqExsL",
    "outputId": "77ac17ee-0a63-4319-e531-9fcb574f78a8"
   },
   "outputs": [],
   "source": [
    "df.info()"
   ]
  },
  {
   "cell_type": "code",
   "execution_count": 20,
   "metadata": {
    "colab": {
     "base_uri": "https://localhost:8080/"
    },
    "id": "5JNzsORlEzWF",
    "outputId": "e446777e-85f8-405c-8151-6721f8ee6142"
   },
   "outputs": [],
   "source": [
    "df.Profile.value_counts()"
   ]
  },
  {
   "cell_type": "markdown",
   "metadata": {
    "id": "Nbnq89BPE1BT"
   },
   "source": [
    "##**Data Visualization:**"
   ]
  },
  {
   "cell_type": "markdown",
   "metadata": {
    "id": "i1cW2-jwE6fI"
   },
   "source": [
    "###**Count Plot:**"
   ]
  },
  {
   "cell_type": "code",
   "execution_count": 21,
   "metadata": {
    "colab": {
     "base_uri": "https://localhost:8080/",
     "height": 559
    },
    "id": "psfRa7d9E8uQ",
    "outputId": "43a761c9-6c59-4cdd-a656-e30f72ef0320"
   },
   "outputs": [],
   "source": [
    "import seaborn as sns\n",
    "plt.figure(figsize=(8,6))\n",
    "sns.countplot(y=\"Profile\" , palette=\"Set3\", data=df, order = df['Profile'].value_counts().index)"
   ]
  },
  {
   "cell_type": "markdown",
   "metadata": {
    "id": "RPrbKOl-FACm"
   },
   "source": [
    "###**Histogram:**"
   ]
  },
  {
   "cell_type": "code",
   "execution_count": 22,
   "metadata": {
    "colab": {
     "base_uri": "https://localhost:8080/",
     "height": 564
    },
    "id": "u_RYk6bmFCz7",
    "outputId": "f86ed0d4-0761-4ca8-eff1-9c4a91dbcb62"
   },
   "outputs": [],
   "source": [
    "# Create a histogram\n",
    "plt.figure(figsize=(8, 6))  # Adjust the figure size as desired\n",
    "plt.hist(df['Profile'], bins=5, edgecolor='black', color='#4287f5')  # Customize the color of the bars\n",
    "\n",
    "# Add labels and title\n",
    "plt.xlabel('Profile')\n",
    "plt.ylabel('Numbers')\n",
    "plt.title('Distribution of Profiles')\n",
    "\n",
    "# Add grid lines\n",
    "plt.grid(axis='y', alpha=0.5)\n",
    "\n",
    "# Remove top and right spines\n",
    "plt.gca().spines['top'].set_visible(False)\n",
    "plt.gca().spines['right'].set_visible(False)\n",
    "\n",
    "# Add a light background color\n",
    "plt.gca().set_facecolor('#f0f0f0')\n",
    "\n",
    "# Adjust tick parameters\n",
    "plt.tick_params(axis='both', which='both', bottom=False, left=False)\n",
    "\n",
    "# Display the histogram\n",
    "plt.show()"
   ]
  },
  {
   "cell_type": "markdown",
   "metadata": {
    "id": "6s1McXnTFFUf"
   },
   "source": [
    "###**Scatter plot:**"
   ]
  },
  {
   "cell_type": "code",
   "execution_count": 23,
   "metadata": {
    "colab": {
     "base_uri": "https://localhost:8080/",
     "height": 472
    },
    "id": "OkESDEuXFHCa",
    "outputId": "d40849de-d016-4986-d39e-8783b1d8b75f"
   },
   "outputs": [],
   "source": [
    "# Create a scatter plot\n",
    "plt.scatter(df.index, data.Profile)\n",
    "\n",
    "# Add labels and title\n",
    "plt.xlabel('Index')\n",
    "plt.ylabel('Column Data')\n",
    "plt.title('Scatter Plot')\n",
    "\n",
    "# Display the scatter plot\n",
    "plt.show()"
   ]
  },
  {
   "cell_type": "markdown",
   "metadata": {
    "id": "IIsDb6kWFJCB"
   },
   "source": [
    "##**Network Graph**"
   ]
  },
  {
   "cell_type": "code",
   "execution_count": 24,
   "metadata": {
    "colab": {
     "base_uri": "https://localhost:8080/",
     "height": 659
    },
    "id": "sjrs0_z6FKg3",
    "outputId": "410afce9-5fb3-4387-e9ef-b7caebe22500"
   },
   "outputs": [],
   "source": [
    "import pandas as pd\n",
    "import networkx as nx\n",
    "import matplotlib.pyplot as plt\n",
    "\n",
    "# Assuming you have a DataFrame named 'data' with a column 'column_name'\n",
    "column_data = df['Profile']\n",
    "\n",
    "# Create an empty graph\n",
    "G = nx.Graph()\n",
    "\n",
    "# Add nodes\n",
    "nodes = column_data.unique()\n",
    "G.add_nodes_from(nodes)\n",
    "\n",
    "# Add edges\n",
    "edges = [(nodes[i], nodes[i+1]) for i in range(len(nodes)-1)]\n",
    "G.add_edges_from(edges)\n",
    "\n",
    "# Draw the network graph\n",
    "plt.figure(figsize=(10, 6))\n",
    "nx.draw(G, with_labels=True, node_color='skyblue', node_size=1000, edge_color='gray')\n",
    "plt.title('Network Graph')\n",
    "plt.show()"
   ]
  },
  {
   "cell_type": "markdown",
   "metadata": {
    "id": "7DEBCIyUFPHe"
   },
   "source": [
    "###**Tree Map**"
   ]
  },
  {
   "cell_type": "code",
   "execution_count": 25,
   "metadata": {
    "colab": {
     "base_uri": "https://localhost:8080/",
     "height": 521
    },
    "id": "EktczxijFQwJ",
    "outputId": "e0af972d-72ff-49b0-8744-9379175e7291"
   },
   "outputs": [],
   "source": [
    "# Assuming you have a DataFrame named 'data' with a column 'column1'\n",
    "column1 = df['Profile']\n",
    "\n",
    "# Calculate the proportions of each value in the column\n",
    "value_counts = column1.value_counts(normalize=True)\n",
    "\n",
    "# Assign colors to the values\n",
    "colors = ['#FF9999', '#66B2FF', '#99FF99', '#FFCC99']\n",
    "\n",
    "# Create the treemap\n",
    "plt.figure(figsize=(10, 6))\n",
    "squarify.plot(sizes=value_counts, label=value_counts.index, color=colors, alpha=0.7)\n",
    "\n",
    "# Add labels and title\n",
    "plt.axis('off')\n",
    "plt.title('Treemap')\n",
    "\n",
    "# Display the treemap\n",
    "plt.show()"
   ]
  },
  {
   "cell_type": "markdown",
   "metadata": {
    "id": "Qb-NbGTZFSq1"
   },
   "source": [
    "##**Histogram**"
   ]
  },
  {
   "cell_type": "code",
   "execution_count": 26,
   "metadata": {
    "colab": {
     "base_uri": "https://localhost:8080/",
     "height": 472
    },
    "id": "mxF0hurGFT-o",
    "outputId": "7d32970d-fe5b-4c52-cfbd-58c2ccbacd46"
   },
   "outputs": [],
   "source": [
    "import pandas as pd\n",
    "import matplotlib.pyplot as plt\n",
    "\n",
    "# Assuming you have a DataFrame named 'data' with a column 'column1'\n",
    "column1 = data['Profile']\n",
    "\n",
    "# Create a histogram\n",
    "plt.hist(column1, bins=10)\n",
    "\n",
    "# Add labels and title\n",
    "plt.xlabel('Values')\n",
    "plt.ylabel('Frequency')\n",
    "plt.title('Histogram')\n",
    "\n",
    "# Display the histogram\n",
    "plt.show()"
   ]
  },
  {
   "cell_type": "markdown",
   "metadata": {
    "id": "fbOVikHuFY2o"
   },
   "source": [
    "##**Heat Map**"
   ]
  },
  {
   "cell_type": "code",
   "execution_count": 27,
   "metadata": {
    "colab": {
     "base_uri": "https://localhost:8080/",
     "height": 545
    },
    "id": "872xwEijFcNT",
    "outputId": "ed5394a9-db2c-43ba-e071-ab4aced6fa97"
   },
   "outputs": [],
   "source": [
    "# Assuming you have a DataFrame named 'data' with two columns 'column1' and 'column2'\n",
    "column1 = 'Profile'  # Replace with the actual column name\n",
    "column2 = 'Resume'  # Replace with the actual column name\n",
    "\n",
    "# Create a pivot table with the two columns\n",
    "pivot_table = pd.pivot_table(df, values=column2, index=column1, aggfunc='count')\n",
    "\n",
    "# Create a heatmap\n",
    "plt.figure(figsize=(10, 6))\n",
    "sns.heatmap(pivot_table, cmap='YlGnBu', annot=True, fmt='g')\n",
    "\n",
    "# Add title\n",
    "plt.title('Heatmap')\n",
    "\n",
    "# Display the heatmap\n",
    "plt.show()"
   ]
  },
  {
   "cell_type": "markdown",
   "metadata": {
    "id": "BTa84oRHFf6J"
   },
   "source": [
    "###**Count Number of Words**"
   ]
  },
  {
   "cell_type": "code",
   "execution_count": 28,
   "metadata": {
    "colab": {
     "base_uri": "https://localhost:8080/"
    },
    "id": "7mAsaVMVFhuU",
    "outputId": "be873c43-d1f7-4ee3-c67a-82c4704ebbab"
   },
   "outputs": [],
   "source": [
    "# Count the number of words in the \"Resume\" column\n",
    "df['word_count'] = df['Resume'].str.split().apply(len)\n",
    "# Print the resulting DataFrame\n",
    "print(df.head(15))"
   ]
  },
  {
   "cell_type": "markdown",
   "metadata": {
    "id": "IRYDqDcVFj8e"
   },
   "source": [
    "###**Count Number of Characters**"
   ]
  },
  {
   "cell_type": "code",
   "execution_count": 29,
   "metadata": {
    "colab": {
     "base_uri": "https://localhost:8080/"
    },
    "id": "pqTZckkQFlgk",
    "outputId": "bb06f7a2-b9f4-4ef2-c849-8e8acdea563c"
   },
   "outputs": [],
   "source": [
    "# Count the number of characters in the \"Resume\" column\n",
    "df['char_count'] = df['Resume'].str.len()\n",
    "# Print the \"Resume\" and \"char_count\" columns\n",
    "print(df[['Resume', 'char_count']])"
   ]
  },
  {
   "cell_type": "markdown",
   "metadata": {
    "id": "jXHIvx7xFnco"
   },
   "source": [
    "###**Count Numbers**"
   ]
  },
  {
   "cell_type": "code",
   "execution_count": 30,
   "metadata": {
    "colab": {
     "base_uri": "https://localhost:8080/"
    },
    "id": "AqpbCW60FnPF",
    "outputId": "2bbe8567-8037-4b84-d170-91fb2134e717"
   },
   "outputs": [],
   "source": [
    "def count_numbers(text):\n",
    "    return sum(char.isdigit() for char in str(text))\n",
    "# Apply the counting function to the \"Resume\" column\n",
    "df['num_numbers'] = df['Resume'].apply(count_numbers)\n",
    "print(df[['Resume', 'num_numbers']].head(32))"
   ]
  },
  {
   "cell_type": "code",
   "execution_count": 31,
   "metadata": {
    "colab": {
     "base_uri": "https://localhost:8080/",
     "height": 676
    },
    "id": "cq9-PmwqFr8I",
    "outputId": "defb30f3-47b0-4ba7-8c27-e1c445720404"
   },
   "outputs": [],
   "source": [
    "df.head(20)"
   ]
  },
  {
   "cell_type": "code",
   "execution_count": 32,
   "metadata": {
    "id": "-OQePX7zFtju"
   },
   "outputs": [],
   "source": [
    "df = df.drop([\"word_count\", \"char_count\", \"num_numbers\"], axis=1)"
   ]
  },
  {
   "cell_type": "code",
   "execution_count": 33,
   "metadata": {
    "colab": {
     "base_uri": "https://localhost:8080/",
     "height": 645
    },
    "id": "CJuM_CGuFvBW",
    "outputId": "e83f3e20-b072-4f5a-b456-7bb31422b570"
   },
   "outputs": [],
   "source": [
    "df.head(19)"
   ]
  },
  {
   "cell_type": "markdown",
   "metadata": {
    "id": "5hfjSMS8FxTs"
   },
   "source": [
    "###**Cleaning & Preprocessing of data**"
   ]
  },
  {
   "cell_type": "code",
   "execution_count": 34,
   "metadata": {
    "colab": {
     "base_uri": "https://localhost:8080/",
     "height": 425
    },
    "id": "uDztL0YQFy53",
    "outputId": "0ae5db90-a78f-4a7f-81ee-388e8b355b37"
   },
   "outputs": [],
   "source": [
    "import re\n",
    "def remove_numbers(text):\n",
    "    # Remove special characters,digits & Numbers\n",
    "    text = re.sub(r\"[^a-zA-Z\\s]_()\", \" \", text)\n",
    "    # Remove numbers using regular expression\n",
    "    text = re.sub(r'\\d+', '', text)\n",
    "    return text\n",
    "\n",
    "df['Resume'] = df['Resume'].apply(remove_numbers)\n",
    "df.head(12)"
   ]
  },
  {
   "cell_type": "code",
   "execution_count": 35,
   "metadata": {
    "colab": {
     "base_uri": "https://localhost:8080/"
    },
    "id": "0xITljBSF0fX",
    "outputId": "5fcd3857-0609-474e-d7b0-a70d192aefc9"
   },
   "outputs": [],
   "source": [
    "resume_paragraph = '\\n'.join(df['Resume'])\n",
    "print(resume_paragraph)"
   ]
  },
  {
   "cell_type": "code",
   "execution_count": 36,
   "metadata": {
    "colab": {
     "base_uri": "https://localhost:8080/"
    },
    "id": "IdYb6cErF26v",
    "outputId": "8dba9878-a4ad-48be-8af4-3c729d15af8c"
   },
   "outputs": [],
   "source": [
    "import textwrap\n",
    "#To display the paragraph with line breaks in a readable format\n",
    "joined_text = ' '.join(df['Resume'].tolist())\n",
    "paragraph = \"\\n\\n\".join([line.strip() for line in joined_text.split(\"\\n\") if line.strip()])\n",
    "\n",
    "# Wrap the paragraph with a specific width\n",
    "wrapped_paragraph = textwrap.fill(paragraph, width=80)\n",
    "\n",
    "# Print the wrapped paragraph\n",
    "print(wrapped_paragraph)"
   ]
  },
  {
   "cell_type": "code",
   "execution_count": 37,
   "metadata": {
    "colab": {
     "base_uri": "https://localhost:8080/",
     "height": 140
    },
    "id": "ihje_nsFF43D",
    "outputId": "07414e33-ed62-43ad-e82b-069e720618a1"
   },
   "outputs": [],
   "source": [
    "#Punctuation\n",
    "no_punc_text = wrapped_paragraph.translate(str.maketrans(\"\", \"\", string.punctuation))\n",
    "no_punc_text"
   ]
  },
  {
   "cell_type": "code",
   "execution_count": 38,
   "metadata": {
    "colab": {
     "base_uri": "https://localhost:8080/"
    },
    "id": "kM_Rh2VjF6Rm",
    "outputId": "3e3f7110-0d97-45bf-c629-417c81a3b282"
   },
   "outputs": [],
   "source": [
    "# Normalize the data and convert to lowercase\n",
    "lower_words = [word.lower() for word in no_punc_text.split()]\n",
    "print(lower_words[0:35])"
   ]
  },
  {
   "cell_type": "code",
   "execution_count": 39,
   "metadata": {
    "colab": {
     "base_uri": "https://localhost:8080/"
    },
    "id": "tzTocZHqF7pe",
    "outputId": "b98b0294-5b48-4265-9b69-be45d43340c8"
   },
   "outputs": [],
   "source": [
    "len(no_punc_text)"
   ]
  },
  {
   "cell_type": "markdown",
   "metadata": {
    "id": "nKhCGmf-F9kC"
   },
   "source": [
    "## **Feature Extraction**"
   ]
  },
  {
   "cell_type": "markdown",
   "metadata": {
    "id": "xfwN1_6WGBQc"
   },
   "source": [
    "###**CountVectorizer**"
   ]
  },
  {
   "cell_type": "code",
   "execution_count": 40,
   "metadata": {
    "id": "lNj_tXb5GDAd"
   },
   "outputs": [],
   "source": [
    "from sklearn.feature_extraction.text import CountVectorizer\n",
    "vectorizer = CountVectorizer()\n",
    "X = vectorizer.fit_transform(df['Resume'])"
   ]
  },
  {
   "cell_type": "code",
   "execution_count": 41,
   "metadata": {
    "colab": {
     "base_uri": "https://localhost:8080/"
    },
    "id": "EHakf9CEGEt0",
    "outputId": "c5e74b63-3945-4e90-c208-48bae54898a4"
   },
   "outputs": [],
   "source": [
    "print(vectorizer.vocabulary_)"
   ]
  },
  {
   "cell_type": "code",
   "execution_count": 42,
   "metadata": {
    "colab": {
     "base_uri": "https://localhost:8080/"
    },
    "id": "HfCz1vNVGGSX",
    "outputId": "9c3c0695-c44f-49c5-8888-167bd05c6117"
   },
   "outputs": [],
   "source": [
    "print(vectorizer.get_feature_names_out()[50:150])\n",
    "print(X.toarray()[50:150])"
   ]
  },
  {
   "cell_type": "code",
   "execution_count": 43,
   "metadata": {
    "colab": {
     "base_uri": "https://localhost:8080/"
    },
    "id": "S-DWEARbGHz7",
    "outputId": "447d152d-8f24-4be2-926b-60774f962917"
   },
   "outputs": [],
   "source": [
    "print(X.toarray().shape)"
   ]
  },
  {
   "cell_type": "code",
   "execution_count": 44,
   "metadata": {
    "colab": {
     "base_uri": "https://localhost:8080/",
     "height": 569
    },
    "id": "fTrIN1BdGJW_",
    "outputId": "9c113c06-0c92-490f-9c8a-b76f1c201d4f"
   },
   "outputs": [],
   "source": [
    "import pandas as pd\n",
    "from sklearn.feature_extraction.text import CountVectorizer\n",
    "import matplotlib.pyplot as plt\n",
    "\n",
    "# Instantiate CountVectorizer\n",
    "vectorizer = CountVectorizer()\n",
    "X = vectorizer.fit_transform(df['Resume'])\n",
    "\n",
    "# Get the feature names (tokens) and their count\n",
    "feature_names = vectorizer.get_feature_names_out()[50:150]\n",
    "feature_counts = X.toarray()[:, 50:150].sum(axis=0)\n",
    "\n",
    "# Create a bar plot for feature counts\n",
    "plt.figure(figsize=(12, 6))\n",
    "plt.bar(feature_names, feature_counts)\n",
    "plt.xticks(rotation=90)\n",
    "plt.xlabel('Feature (Token)')\n",
    "plt.ylabel('Count')\n",
    "plt.title('Count of Features in CountVectorizer')\n",
    "plt.tight_layout()\n",
    "plt.show()\n"
   ]
  },
  {
   "cell_type": "markdown",
   "metadata": {
    "id": "nExwwGH1GMtj"
   },
   "source": [
    "## **TFidf vectorizer**"
   ]
  },
  {
   "cell_type": "code",
   "execution_count": 45,
   "metadata": {
    "colab": {
     "base_uri": "https://localhost:8080/"
    },
    "id": "P4N2g6NzGLfE",
    "outputId": "3789cc39-ebb8-4a5b-bd1e-a64fadd365fa"
   },
   "outputs": [],
   "source": [
    "from sklearn.feature_extraction.text import TfidfVectorizer\n",
    "vectorizer_n_gram_max_features = TfidfVectorizer(norm=\"l2\",analyzer='word', ngram_range=(1,3), max_features = 110)\n",
    "tf_idf_matrix_n_gram_max_features =vectorizer_n_gram_max_features.fit_transform(df['Resume'])\n",
    "print(vectorizer_n_gram_max_features.get_feature_names_out())\n",
    "print(tf_idf_matrix_n_gram_max_features.toarray())"
   ]
  },
  {
   "cell_type": "markdown",
   "metadata": {
    "id": "ouXW8sUBGQbI"
   },
   "source": [
    "###**Named Entity Recognition (NER)**"
   ]
  },
  {
   "cell_type": "code",
   "execution_count": 46,
   "metadata": {
    "colab": {
     "base_uri": "https://localhost:8080/"
    },
    "id": "UPvjmbp5GR7k",
    "outputId": "a35dd9d7-9d92-4bc0-dcd1-de8b165d004b"
   },
   "outputs": [],
   "source": [
    "import spacy\n",
    "\n",
    "# Load the spaCy English model\n",
    "nlp = spacy.load('en_core_web_sm')\n",
    "\n",
    "# Apply NER on the resume_paragraph\n",
    "doc = nlp(resume_paragraph)\n",
    "\n",
    "# Iterate over the entities and print them\n",
    "for entity in doc.ents:\n",
    "    print(entity.text, entity.label_)"
   ]
  },
  {
   "cell_type": "code",
   "execution_count": 47,
   "metadata": {
    "colab": {
     "base_uri": "https://localhost:8080/"
    },
    "id": "JLANT2GEGTqm",
    "outputId": "9807ad22-0799-4a09-af8d-53bfd8a8cf96"
   },
   "outputs": [],
   "source": [
    "word_freq = {}\n",
    "for word in resume_paragraph.split():\n",
    "    if word in word_freq:\n",
    "        word_freq[word] += 1\n",
    "    else:\n",
    "        word_freq[word] = 1\n",
    "sorted_word_freq = sorted(word_freq.items(), key=lambda x: x[1], reverse=True)\n",
    "for word, freq in sorted_word_freq:\n",
    "    print(word, freq)"
   ]
  },
  {
   "cell_type": "markdown",
   "metadata": {
    "id": "z7M1RbkaGVs6"
   },
   "source": [
    "###**Bar-Plot For Top 15 Words**"
   ]
  },
  {
   "cell_type": "code",
   "execution_count": 48,
   "metadata": {
    "colab": {
     "base_uri": "https://localhost:8080/",
     "height": 607
    },
    "id": "JrjvMITvGXFU",
    "outputId": "8d9d7a37-706f-47d1-e022-f1161888b358"
   },
   "outputs": [],
   "source": [
    "top_words = sorted_word_freq[:15]  # Select the top 20 words\n",
    "words, frequencies = zip(*top_words)  # Unpack the word-frequency pairs\n",
    "plt.figure(figsize=(10, 6))  # Set the figure size\n",
    "plt.bar(words, frequencies)  # Create the bar plot\n",
    "plt.xlabel('Words')\n",
    "plt.ylabel('Frequency')\n",
    "plt.title('Top 15 Words in Resume')\n",
    "plt.xticks(rotation=45)  # Rotate x-axis labels for better readability\n",
    "plt.tight_layout()  # Adjust the spacing\n",
    "plt.show()  # Display the plot"
   ]
  },
  {
   "cell_type": "markdown",
   "metadata": {
    "id": "rmEPkCt2GbeI"
   },
   "source": [
    "###**Word-Cloud For top 27 Words**"
   ]
  },
  {
   "cell_type": "code",
   "execution_count": 49,
   "metadata": {
    "colab": {
     "base_uri": "https://localhost:8080/",
     "height": 521
    },
    "id": "j3JiEEv2GdAS",
    "outputId": "2cdefe34-2eb9-42b2-d715-bcea147c8eac"
   },
   "outputs": [],
   "source": [
    "top_words = dict(sorted_word_freq[:27])  # Select the top 27 words as a dictionary\n",
    "wordcloud = WordCloud(width=1000, height=800, random_state=10, background_color=\"black\",\n",
    "                      colormap=\"Pastel1\", collocations=False).generate_from_frequencies(top_words)\n",
    "plt.figure(figsize=(10, 6))  # Set the figure size\n",
    "plt.imshow(wordcloud, interpolation='bilinear')\n",
    "plt.axis('off')  # Hide the axes\n",
    "plt.title('Word Cloud - Top 27 Words in Resume')\n",
    "plt.show()  # Display the word cloud"
   ]
  },
  {
   "cell_type": "markdown",
   "metadata": {
    "id": "CsJLZ3edGkUe"
   },
   "source": [
    "# Model Building and Evaluation"
   ]
  },
  {
   "cell_type": "markdown",
   "metadata": {
    "id": "ji_4N95qGmdP"
   },
   "source": [
    "###**Chi-Square Test**"
   ]
  },
  {
   "cell_type": "markdown",
   "metadata": {
    "id": "MDhQLyPVGo8u"
   },
   "source": [
    "**Null Hypothesis (H0):** There is no significant association between the content of the resume and the job profile.\n",
    "\n",
    "**Alternative Hypothesis (H1):** There is a significant association between the content of the resume and the job profile."
   ]
  },
  {
   "cell_type": "code",
   "execution_count": 50,
   "metadata": {
    "colab": {
     "base_uri": "https://localhost:8080/"
    },
    "id": "t7ZgYktwGqhJ",
    "outputId": "6cdf90ac-c4d1-42d9-edb8-57f1e7d1ab18"
   },
   "outputs": [],
   "source": [
    "import pandas as pd\n",
    "from scipy.stats import chi2_contingency\n",
    "\n",
    "# Assuming your DataFrame is called DF\n",
    "resume_column = df[\"Resume\"]\n",
    "profile_column = df[\"Profile\"]\n",
    "\n",
    "# Create a contingency table\n",
    "contingency_table = pd.crosstab(resume_column, profile_column)\n",
    "\n",
    "# Perform chi-square test\n",
    "chi2, p_value, _, _ = chi2_contingency(contingency_table)\n",
    "\n",
    "# Print the results\n",
    "print(\"Chi-square statistic:\", chi2)\n",
    "print(\"p-value:\", p_value)\n"
   ]
  },
  {
   "cell_type": "markdown",
   "metadata": {
    "id": "zStphS1BGtLb"
   },
   "source": [
    "**Alternative hypothesis suggests that there is a meaningful relationship between the content of the resume and the job profile**"
   ]
  },
  {
   "cell_type": "markdown",
   "metadata": {
    "id": "Mtl97Fk_GwLt"
   },
   "source": [
    "###**Mutual information**"
   ]
  },
  {
   "cell_type": "code",
   "execution_count": 51,
   "metadata": {
    "colab": {
     "base_uri": "https://localhost:8080/"
    },
    "id": "0DLahYTCGoct",
    "outputId": "a2d0a50d-2f96-4220-cc59-9d88e4002db6"
   },
   "outputs": [],
   "source": [
    "import pandas as pd\n",
    "from sklearn.feature_extraction.text import TfidfVectorizer\n",
    "from sklearn.feature_selection import mutual_info_classif\n",
    "\n",
    "# Assuming your DataFrame is called DF\n",
    "resume_column = df[\"Resume\"]\n",
    "profile_column = df[\"Profile\"]\n",
    "\n",
    "# Create and fit the TF-IDF vectorizer\n",
    "vectorizer = TfidfVectorizer(norm=\"l2\", analyzer='word', ngram_range=(1, 3), max_features=110)\n",
    "tfidf_matrix = vectorizer.fit_transform(resume_column)\n",
    "\n",
    "# Calculate the mutual information\n",
    "mutual_info_scores = mutual_info_classif(tfidf_matrix, profile_column)\n",
    "\n",
    "# Get the feature names from the TF-IDF vectorizer\n",
    "feature_names = vectorizer.get_feature_names_out()\n",
    "\n",
    "# Create a DataFrame to display the results\n",
    "results = pd.DataFrame({\"Feature\": feature_names, \"Mutual Information Score\": mutual_info_scores})\n",
    "\n",
    "# Print the results\n",
    "print(results)\n"
   ]
  },
  {
   "cell_type": "markdown",
   "metadata": {
    "id": "WAdie1eJG1Tf"
   },
   "source": [
    "**1)0.015268, suggesting it has relatively low information content regarding the \"Profile\" column**\n",
    "\n",
    "**2)0.046991, indicating they provide slightly more information about the job profiles**\n",
    "\n",
    "**3)0.173501, indicating it is a significant feature that carries valuable information for classifying the job profiles based on the resumes**"
   ]
  },
  {
   "cell_type": "code",
   "execution_count": 52,
   "metadata": {
    "colab": {
     "base_uri": "https://localhost:8080/"
    },
    "id": "DiNGi0peG3eo",
    "outputId": "dbeebfb2-7dec-489f-a400-3f75232a89c6"
   },
   "outputs": [],
   "source": [
    "# Split the data into training and testing sets\n",
    "X_train, X_test, y_train, y_test = train_test_split(tfidf_matrix, profile_column, test_size=0.2, random_state=44)\n",
    "X_train.shape, X_test.shape"
   ]
  },
  {
   "cell_type": "markdown",
   "metadata": {
    "id": "Orj1eWuSG73G"
   },
   "source": [
    "###**Naive Bayes**"
   ]
  },
  {
   "cell_type": "code",
   "execution_count": 53,
   "metadata": {
    "colab": {
     "base_uri": "https://localhost:8080/"
    },
    "id": "eCgDQzAyG9ju",
    "outputId": "5ad961aa-d163-4b4b-9969-927414758124"
   },
   "outputs": [],
   "source": [
    "# Create and train the Naive Bayes classifier\n",
    "naive_bayes = MultinomialNB()\n",
    "naive_bayes.fit(X_train, y_train)\n",
    "\n",
    "# Predict the job profiles for the test set\n",
    "ny_pred = naive_bayes.predict(X_test)\n",
    "\n",
    "# Evaluate the performance of the classifier\n",
    "print(classification_report(y_test, ny_pred))\n"
   ]
  },
  {
   "cell_type": "markdown",
   "metadata": {
    "id": "Al9ixxhiG_V2"
   },
   "source": [
    "###**Support Vector Machines (SVM)**"
   ]
  },
  {
   "cell_type": "code",
   "execution_count": 54,
   "metadata": {
    "colab": {
     "base_uri": "https://localhost:8080/"
    },
    "id": "oKK3JsoHHBAq",
    "outputId": "7b224633-c0a5-44f6-de62-98543b7ebde5"
   },
   "outputs": [],
   "source": [
    "# Create and train the SVM classifier\n",
    "svm = SVC()\n",
    "svm.fit(X_train, y_train)\n",
    "\n",
    "# Predict the job profiles for the test set\n",
    "svy_pred = svm.predict(X_test)\n",
    "\n",
    "# Evaluate the performance of the classifier\n",
    "print(classification_report(y_test, svy_pred))"
   ]
  },
  {
   "cell_type": "markdown",
   "metadata": {
    "id": "jC2YYuWbHEGd"
   },
   "source": [
    "###**Logistic Regression**"
   ]
  },
  {
   "cell_type": "code",
   "execution_count": 55,
   "metadata": {
    "colab": {
     "base_uri": "https://localhost:8080/"
    },
    "id": "_vV3ah-6HF8N",
    "outputId": "ffa9035c-b934-4b6e-c703-a647fab9f1c2"
   },
   "outputs": [],
   "source": [
    "# Create and train the Logistic Regression classifier\n",
    "logistic_regression = LogisticRegression()\n",
    "logistic_regression.fit(X_train, y_train)\n",
    "\n",
    "# Predict the job profiles for the test set\n",
    "ly_pred = logistic_regression.predict(X_test)\n",
    "\n",
    "# Evaluate the performance of the classifier\n",
    "print(classification_report(y_test, ly_pred))"
   ]
  },
  {
   "cell_type": "markdown",
   "metadata": {
    "id": "lKoS_fyaHQOF"
   },
   "source": [
    "###**Random Forest**"
   ]
  },
  {
   "cell_type": "code",
   "execution_count": 56,
   "metadata": {
    "colab": {
     "base_uri": "https://localhost:8080/"
    },
    "id": "MalHaDmHHRwR",
    "outputId": "36d4203c-f530-4c44-d40b-24623307617b"
   },
   "outputs": [],
   "source": [
    "# Create and train the Random Forest classifier\n",
    "random_forest = RandomForestClassifier()\n",
    "random_forest.fit(X_train, y_train)\n",
    "\n",
    "# Predict the job profiles for the test set\n",
    "ry_pred = random_forest.predict(X_test)\n",
    "\n",
    "# Evaluate the performance of the classifier\n",
    "print(classification_report(y_test, ry_pred))"
   ]
  },
  {
   "cell_type": "markdown",
   "metadata": {
    "id": "pu6HnkJMHTrd"
   },
   "source": [
    "###**Gradient Boosting Model**"
   ]
  },
  {
   "cell_type": "code",
   "execution_count": 57,
   "metadata": {
    "colab": {
     "base_uri": "https://localhost:8080/"
    },
    "id": "G1MZWam8HVKm",
    "outputId": "fc6b31e0-0725-4805-de07-b227361eaac2"
   },
   "outputs": [],
   "source": [
    "# Create and train the Gradient Boosting classifier\n",
    "gradient_boosting = GradientBoostingClassifier()\n",
    "gradient_boosting.fit(X_train, y_train)\n",
    "\n",
    "# Predict the job profiles for the test set\n",
    "gby_pred = gradient_boosting.predict(X_test)\n",
    "\n",
    "# Evaluate the performance of the classifier\n",
    "print(classification_report(y_test, gby_pred))"
   ]
  },
  {
   "cell_type": "markdown",
   "metadata": {
    "id": "tHfFYFdgHXan"
   },
   "source": [
    "###**AdaBoost model**"
   ]
  },
  {
   "cell_type": "code",
   "execution_count": 58,
   "metadata": {
    "colab": {
     "base_uri": "https://localhost:8080/"
    },
    "id": "vdFMA3yrHY93",
    "outputId": "184b41f1-0dbc-452d-b278-7571a2be2b2e"
   },
   "outputs": [],
   "source": [
    "# Create and train the AdaBoost classifier\n",
    "adaboost = AdaBoostClassifier()\n",
    "adaboost.fit(X_train, y_train)\n",
    "\n",
    "# Predict the job profiles for the test set\n",
    "ady_pred = adaboost.predict(X_test)\n",
    "\n",
    "# Evaluate the performance of the classifier\n",
    "print(classification_report(y_test, ady_pred))"
   ]
  },
  {
   "cell_type": "markdown",
   "metadata": {
    "id": "VC-AbAd1HawL"
   },
   "source": [
    "###**Bagging Classifier**"
   ]
  },
  {
   "cell_type": "code",
   "execution_count": 59,
   "metadata": {
    "colab": {
     "base_uri": "https://localhost:8080/"
    },
    "id": "GBYnFORvHcS9",
    "outputId": "36b12d32-a66e-4874-f093-db84b2d8a256"
   },
   "outputs": [],
   "source": [
    "# Create and train the Bagging classifier\n",
    "bagging = BaggingClassifier()\n",
    "bagging.fit(X_train, y_train)\n",
    "\n",
    "# Predict the job profiles for the test set\n",
    "by_pred = bagging.predict(X_test)\n",
    "\n",
    "# Evaluate the performance of the classifier\n",
    "print(classification_report(y_test, by_pred))"
   ]
  },
  {
   "cell_type": "markdown",
   "metadata": {
    "id": "zmd92HhWHeFj"
   },
   "source": [
    "###**Decision Tree Classifier**"
   ]
  },
  {
   "cell_type": "code",
   "execution_count": 60,
   "metadata": {
    "colab": {
     "base_uri": "https://localhost:8080/"
    },
    "id": "xdChShzPHfm0",
    "outputId": "6a9f8b89-387d-4437-dce7-472e92e65788"
   },
   "outputs": [],
   "source": [
    "# Create and train the Decision Tree classifier\n",
    "decision_tree = DecisionTreeClassifier()\n",
    "decision_tree.fit(X_train, y_train)\n",
    "\n",
    "# Predict the job profiles for the test set\n",
    "dy_pred = decision_tree.predict(X_test)\n",
    "\n",
    "# Evaluate the performance of the classifier\n",
    "print(classification_report(y_test, dy_pred))"
   ]
  },
  {
   "cell_type": "markdown",
   "metadata": {
    "id": "YsBOMXiSHiux"
   },
   "source": [
    "###**KNN Classifier**"
   ]
  },
  {
   "cell_type": "code",
   "execution_count": 61,
   "metadata": {
    "colab": {
     "base_uri": "https://localhost:8080/"
    },
    "id": "cNfy0cYKHkPc",
    "outputId": "a0733f0e-055e-43ae-8a7c-fb31706fb48a"
   },
   "outputs": [],
   "source": [
    "# Create and train the KNN classifier\n",
    "knn = KNeighborsClassifier()\n",
    "knn.fit(X_train, y_train)\n",
    "\n",
    "# Predict the job profiles for the test set\n",
    "ky_pred = knn.predict(X_test)\n",
    "\n",
    "# Evaluate the performance of the classifier\n",
    "print(classification_report(y_test, ky_pred))"
   ]
  },
  {
   "cell_type": "code",
   "execution_count": 62,
   "metadata": {
    "colab": {
     "base_uri": "https://localhost:8080/"
    },
    "id": "l3Ai79eEHlti",
    "outputId": "00fe76d2-12ed-435c-ba6a-6ed4c5fa43f4"
   },
   "outputs": [],
   "source": [
    "# Initialize lists to store evaluation metrics\n",
    "classifiers = [\"Naive Bayes\", \"Support Vector Machine\", \"Logistic Regression\", \"Random Forest\", \"Gradient Boosting\", \"AdaBoost\", \"Bagging Classifier\", \"Decision Tree\", \"KNN Classifier\"]\n",
    "precision_scores = []\n",
    "recall_scores = []\n",
    "f1_scores = []\n",
    "\n",
    "# Evaluate each classifier and store the evaluation metrics\n",
    "for classifier, y_pred in zip(classifiers, [ny_pred,svy_pred,ly_pred,ry_pred,gby_pred,ady_pred,by_pred,dy_pred,ky_pred]):\n",
    "    report = classification_report(y_test, y_pred, output_dict=True)\n",
    "    precision_scores.append(report['weighted avg']['precision'] * 100)\n",
    "    recall_scores.append(report['weighted avg']['recall'] * 100)\n",
    "    f1_scores.append(report['weighted avg']['f1-score'] * 100)\n",
    "\n",
    "# Create a DataFrame to store the evaluation metrics\n",
    "evaluation_table = pd.DataFrame({\n",
    "    \"Classifier\": classifiers,\n",
    "    \"Precision(%)\": precision_scores,\n",
    "    \"Recall(%)\": recall_scores,\n",
    "    \"F1-Score(%)\": f1_scores\n",
    "})\n",
    "\n",
    "# Display the evaluation table\n",
    "print(evaluation_table)\n"
   ]
  },
  {
   "cell_type": "markdown",
   "metadata": {
    "id": "UHc7biriJYnj"
   },
   "source": [
    "###**Model Visualization**"
   ]
  },
  {
   "cell_type": "code",
   "execution_count": 63,
   "metadata": {
    "colab": {
     "base_uri": "https://localhost:8080/",
     "height": 607
    },
    "id": "tEqwrtFDHqLl",
    "outputId": "8838805a-8afc-4e5d-b683-813ee0cb6026"
   },
   "outputs": [],
   "source": [
    "import matplotlib.pyplot as plt\n",
    "\n",
    "# Set the figure size\n",
    "plt.figure(figsize=(10, 6))\n",
    "\n",
    "# Set the positions and width for the bars\n",
    "pos = list(range(len(evaluation_table)))\n",
    "width = 0.2\n",
    "\n",
    "# Plot the precision, recall, and F1-score as grouped bars\n",
    "plt.bar(pos, evaluation_table['Precision(%)'], width, alpha=0.8, label='Precision')\n",
    "plt.bar([p + width for p in pos], evaluation_table['Recall(%)'], width, alpha=0.8, label='Recall')\n",
    "plt.bar([p + 2 * width for p in pos], evaluation_table['F1-Score(%)'], width, alpha=0.8, label='F1-Score')\n",
    "\n",
    "# Set the x-axis labels and tick positions\n",
    "plt.xticks([p + width for p in pos], evaluation_table['Classifier'], rotation=45)\n",
    "\n",
    "# Set the y-axis label\n",
    "plt.ylabel('Percentage')\n",
    "\n",
    "# Set the chart title\n",
    "plt.title('Classifier Performance')\n",
    "\n",
    "# Add a legend\n",
    "plt.legend(loc='upper right')\n",
    "\n",
    "# Show the plot\n",
    "plt.tight_layout()\n",
    "plt.show()"
   ]
  },
  {
   "cell_type": "markdown",
   "metadata": {},
   "source": [
    "### Final Model"
   ]
  },
  {
   "cell_type": "code",
   "execution_count": 64,
   "metadata": {},
   "outputs": [],
   "source": [
    "from sklearn.tree import DecisionTreeClassifier"
   ]
  },
  {
   "cell_type": "code",
   "execution_count": 65,
   "metadata": {},
   "outputs": [],
   "source": [
    "model_DT = DecisionTreeClassifier(criterion='gini')"
   ]
  },
  {
   "cell_type": "code",
   "execution_count": 66,
   "metadata": {},
   "outputs": [],
   "source": [
    "model_DT.fit(X_train, y_train)"
   ]
  },
  {
   "cell_type": "code",
   "execution_count": 67,
   "metadata": {},
   "outputs": [],
   "source": [
    "base_pred = model_DT.predict(X_test)\n",
    "base_pred"
   ]
  },
  {
   "cell_type": "markdown",
   "metadata": {},
   "source": [
    "### Model Deployment"
   ]
  },
  {
   "cell_type": "code",
   "execution_count": 68,
   "metadata": {},
   "outputs": [],
   "source": [
    "import pickle"
   ]
  },
  {
   "cell_type": "code",
   "execution_count": 69,
   "metadata": {},
   "outputs": [],
   "source": [
    "filename = 'model_DT.pkl'\n",
    "pickle.dump(model_DT,open(filename,'wb'))"
   ]
  },
  {
   "cell_type": "code",
   "execution_count": 70,
   "metadata": {},
   "outputs": [],
   "source": [
    "import pickle\n",
    "filename = 'vector.pkl'\n",
    "pickle.dump(vectorizer_n_gram_max_features,open(filename,'wb'))"
   ]
  },
  {
   "cell_type": "code",
   "execution_count": null,
   "metadata": {},
   "outputs": [],
   "source": []
  }
 ],
 "metadata": {
  "colab": {
   "provenance": []
  },
  "kernelspec": {
   "display_name": "Python 3 (ipykernel)",
   "language": "python",
   "name": "python3"
  },
  "language_info": {
   "codemirror_mode": {
    "name": "ipython",
    "version": 3
   },
   "file_extension": ".py",
   "mimetype": "text/x-python",
   "name": "python",
   "nbconvert_exporter": "python",
   "pygments_lexer": "ipython3",
   "version": "3.9.16"
  }
 },
 "nbformat": 4,
 "nbformat_minor": 1
}
